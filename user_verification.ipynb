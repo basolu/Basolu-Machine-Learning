{
  "nbformat": 4,
  "nbformat_minor": 0,
  "metadata": {
    "colab": {
      "name": "user_verification.ipynb",
      "provenance": [],
      "authorship_tag": "ABX9TyMYIn1ZpSlfCEDTpfgwcUhS",
      "include_colab_link": true
    },
    "kernelspec": {
      "name": "python3",
      "display_name": "Python 3"
    },
    "language_info": {
      "name": "python"
    }
  },
  "cells": [
    {
      "cell_type": "markdown",
      "metadata": {
        "id": "view-in-github",
        "colab_type": "text"
      },
      "source": [
        "<a href=\"https://colab.research.google.com/github/basolu/Basolu-Machine-Learning/blob/main/user_verification.ipynb\" target=\"_parent\"><img src=\"https://colab.research.google.com/assets/colab-badge.svg\" alt=\"Open In Colab\"/></a>"
      ]
    },
    {
      "cell_type": "code",
      "metadata": {
        "colab": {
          "base_uri": "https://localhost:8080/",
          "height": 399
        },
        "id": "TD2-JHXB6CVM",
        "outputId": "a73feab5-5d14-4455-ae01-218f30e98838"
      },
      "source": [
        "import tensorflow as tf\n",
        "from numpy import mean\n",
        "from numpy import std\n",
        "from numpy import dstack\n",
        "from pandas import read_csv\n",
        "from matplotlib import pyplot\n",
        "from tensorflow.keras.models import Sequential\n",
        "from tensorflow.keras.layers import Dense\n",
        "from tensorflow.keras.layers import Flatten\n",
        "from tensorflow.keras.layers import Dropout\n",
        "from keras.layers.convolutional import Conv1D\n",
        "from keras.layers.convolutional import MaxPooling1D\n",
        "from tensorflow.keras.utils import to_categorical\n",
        "from keras.callbacks import TensorBoard\n",
        "from keras.models import model_from_json\n",
        "import numpy as np\n",
        "import os\n",
        "from keras.layers import Input, Dropout, Dense, LSTM, TimeDistributed, RepeatVector\n",
        "from numpy import save\n",
        "from math import*\n",
        "from sklearn.metrics import classification_report\n",
        "from keras.models import Model\n",
        "from keras import regularizers\n",
        "import matplotlib.pyplot as plt\n",
        "from tensorflow.keras import layers\n",
        "\n",
        "\n",
        "action = int(input(\"Run training (yes-1 \\ no-0)?\"))\n",
        "\n",
        "# load a single file as a numpy array\n",
        "def load_file(filepath):\n",
        "\tdataframe = read_csv(filepath, header=None, delim_whitespace=True)\n",
        "\treturn dataframe.values\n",
        "\n",
        "# load a list of files and return as a 3d numpy array\n",
        "def load_group(filenames, prefix=''):\n",
        "\tloaded = list()\n",
        "\tfor name in filenames:\n",
        "\t\tdata = load_file(prefix + name)\n",
        "\t\tloaded.append(data)\n",
        "\t# stack group so that features are the 3rd dimension\n",
        "\tloaded = dstack(loaded)\n",
        "\treturn loaded\n",
        "\n",
        "# load a dataset group, such as train or test\n",
        "def load_dataset_group(group, prefix=''):\n",
        "  filepath = prefix + group + '/Inertial Signals/'\n",
        "  # load all 9 files as a single array\n",
        "  filenames = list()\n",
        "  # total acceleration\n",
        "  filenames += ['total_acc_x_'+group+'.txt', 'total_acc_y_'+group+'.txt', 'total_acc_z_'+group+'.txt']\n",
        "  # body acceleration\n",
        "  filenames += ['body_acc_x_'+group+'.txt', 'body_acc_y_'+group+'.txt', 'body_acc_z_'+group+'.txt']\n",
        "  # body gyroscope\n",
        "  filenames += ['body_gyro_x_'+group+'.txt', 'body_gyro_y_'+group+'.txt', 'body_gyro_z_'+group+'.txt']\n",
        "  # load input data\n",
        "  X = load_group(filenames, filepath)\n",
        "  # load class output\n",
        "  y = load_file(prefix + group + '/y_'+group+'.txt')\n",
        "  return X, y\n",
        "\n",
        "# load the dataset, returns train and test X and y elements\n",
        "def load_dataset(prefix=''):\n",
        "  # load all train\n",
        "  trainX, trainy = load_dataset_group('train', prefix + 'drive/MyDrive/HARDataset/')\n",
        "  print(\"Shape trainX and trainy:\", trainX.shape, trainy.shape)\n",
        "  # load all test\n",
        "  testX, testy = load_dataset_group('test', prefix + 'drive/MyDrive/HARDataset/')\n",
        "  subjects = read_csv('drive/MyDrive/HARDataset/train/subject_train.txt', header=None, delim_whitespace=True)\n",
        "  # zero-offset class values\n",
        "  trainy = trainy - 1\n",
        "  testy = testy - 1\n",
        "  # one hot encode y\n",
        "  trainy = to_categorical(trainy)\n",
        "  testy = to_categorical(testy)\n",
        "  print(\"Shape train and test:\",trainX.shape, trainy.shape, testX.shape, testy.shape)\n",
        "  #print(trainX.shape[1], trainX.shape[2], trainy.shape[1]) \n",
        "  return trainX, trainy, testX, testy\n",
        "\n",
        "def autoencoder_model(X):\n",
        "  model = Sequential(\n",
        "    [\n",
        "        layers.Input(shape=(trainX.shape[1], trainX.shape[2])),\n",
        "        layers.Conv1D(\n",
        "            filters=32, kernel_size=7, padding=\"same\", strides=2, activation=\"relu\"\n",
        "        ),\n",
        "        layers.Dropout(rate=0.2),\n",
        "        layers.Conv1D(\n",
        "            filters=16, kernel_size=7, padding=\"same\", strides=2, activation=\"relu\"\n",
        "        ),\n",
        "        layers.Conv1DTranspose(\n",
        "            filters=16, kernel_size=7, padding=\"same\", strides=2, activation=\"relu\"\n",
        "        ),\n",
        "        layers.Dropout(rate=0.2),\n",
        "        layers.Conv1DTranspose(\n",
        "            filters=32, kernel_size=7, padding=\"same\", strides=2, activation=\"relu\"\n",
        "        ),\n",
        "        layers.Conv1DTranspose(filters=1, kernel_size=7, padding=\"same\"),\n",
        "    ]\n",
        ")\n",
        "  return model\n",
        "\n",
        "def run_autoencoder():\n",
        "  trainX, trainy, testX, testy = load_dataset()\n",
        "  model = autoencoder_model(trainX)\n",
        "  model.compile(optimizer='adam', loss='mae')\n",
        "  #model.summary()\n",
        "  nb_epochs = 1\n",
        "  batch_size = 10\n",
        "  history = model.fit(trainX, trainX, epochs=nb_epochs, batch_size=batch_size, validation_split=0.05).history\n",
        "  model_json = model.to_json()\n",
        "  with open(\"drive/MyDrive/HARDataset/model_HV.json\", \"w\") as json_file:\n",
        "    json_file.write(model_json)\n",
        "  #serialize weights to HDF5\n",
        "  model.save_weights(\"drive/MyDrive/HARDataset/model_HV.h5\")\n",
        "  print(\"Saved model to disk\")\n",
        "\n",
        "def detect_anomalies():\n",
        "  json_file = open(\"drive/MyDrive/HARDataset/model_HV.json\", \"r\")\n",
        "  loaded_model_json = json_file.read()\n",
        "  json_file.close()\n",
        "  model = model_from_json(loaded_model_json)\n",
        "  # load weights into new model\n",
        "  model.load_weights(\"drive/MyDrive/HARDataset/model_HV.h5\")\n",
        "  print(\"Loaded model from disk\")\n",
        "  testX_pred = model.predict(testX)\n",
        "  test_mae_loss = np.mean(np.abs(testX_pred - testX), axis=1)\n",
        "  test_mae_loss = test_mae_loss.reshape((-1))\n",
        "  plt.hist(test_mae_loss, bins=50)\n",
        "  plt.xlabel(\"test MAE loss\")\n",
        "  plt.ylabel(\"No of samples\")\n",
        "  plt.show()\n",
        "\n",
        "  # Detect all the samples which are anomalies.\n",
        "  anomalies = test_mae_loss > 0.5\n",
        "  print(\"Number of anomaly samples: \", np.sum(anomalies))\n",
        "  print(\"Indices of anomaly samples: \", np.where(anomalies))\n",
        "\n",
        "if action == 1: \n",
        "  run_autoencoder()\n",
        "detect_anomalies()\n",
        "'''\n",
        "fig, ax = plt.subplots(figsize=(14, 6), dpi=80)\n",
        "ax.plot(history['loss'], 'b', label='Train', linewidth=2)\n",
        "ax.plot(history['val_loss'], 'r', label='Validation', linewidth=2)\n",
        "ax.set_title('Model loss', fontsize=16)\n",
        "ax.set_ylabel('Loss (mae)')\n",
        "ax.set_xlabel('Epoch')\n",
        "ax.legend(loc='upper right')\n",
        "plt.show()'''\n"
      ],
      "execution_count": 35,
      "outputs": [
        {
          "output_type": "stream",
          "text": [
            "Run training (yes-1 \\ no-0)?0\n",
            "Loaded model from disk\n"
          ],
          "name": "stdout"
        },
        {
          "output_type": "display_data",
          "data": {
            "image/png": "[encoded data removed]",
            "text/plain": [
              "<Figure size 432x288 with 1 Axes>"
            ]
          },
          "metadata": {
            "tags": [],
            "needs_background": "light"
          }
        },
        {
          "output_type": "stream",
          "text": [
            "Number of anomaly samples:  3953\n",
            "Indices of anomaly samples:  (array([    0,     9,    18, ..., 26496, 26505, 26514]),)\n"
          ],
          "name": "stdout"
        },
        {
          "output_type": "execute_result",
          "data": {
            "application/vnd.google.colaboratory.intrinsic+json": {
              "type": "string"
            },
            "text/plain": [
              "\"\\nfig, ax = plt.subplots(figsize=(14, 6), dpi=80)\\nax.plot(history['loss'], 'b', label='Train', linewidth=2)\\nax.plot(history['val_loss'], 'r', label='Validation', linewidth=2)\\nax.set_title('Model loss', fontsize=16)\\nax.set_ylabel('Loss (mae)')\\nax.set_xlabel('Epoch')\\nax.legend(loc='upper right')\\nplt.show()\""
            ]
          },
          "metadata": {
            "tags": []
          },
          "execution_count": 35
        }
      ]
    },
    {
      "cell_type": "code",
      "metadata": {
        "colab": {
          "base_uri": "https://localhost:8080/"
        },
        "id": "GmKIxB2l_eJX",
        "outputId": "0157e4f4-9cbc-4146-c1a7-c963d0b85cc2"
      },
      "source": [
        "from google.colab import drive\n",
        "drive.mount('/content/drive')"
      ],
      "execution_count": 2,
      "outputs": [
        {
          "output_type": "stream",
          "text": [
            "Mounted at /content/drive\n"
          ],
          "name": "stdout"
        }
      ]
    }
  ]
}